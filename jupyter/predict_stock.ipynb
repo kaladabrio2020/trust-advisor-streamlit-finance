{
 "cells": [
  {
   "cell_type": "markdown",
   "id": "d41c65a3",
   "metadata": {},
   "source": [
    "### Simple Prediction"
   ]
  },
  {
   "cell_type": "markdown",
   "id": "804589d7",
   "metadata": {},
   "source": []
  }
 ],
 "metadata": {
  "language_info": {
   "name": "python"
  }
 },
 "nbformat": 4,
 "nbformat_minor": 5
}
