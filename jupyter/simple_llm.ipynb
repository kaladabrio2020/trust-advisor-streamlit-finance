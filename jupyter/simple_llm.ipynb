{
 "cells": [
  {
   "cell_type": "markdown",
   "id": "640459a7",
   "metadata": {},
   "source": [
    "Importando dados e libs"
   ]
  },
  {
   "cell_type": "code",
   "execution_count": 1,
   "id": "d67cc579",
   "metadata": {},
   "outputs": [],
   "source": [
    "import keras\n",
    "import tensorflow as tf"
   ]
  },
  {
   "cell_type": "code",
   "execution_count": 2,
   "id": "fe97be11",
   "metadata": {},
   "outputs": [],
   "source": [
    "with open(\"txt\\definicao_ptbr_extracao.txt\", \"r\", encoding=\"utf-8\") as file:\n",
    "    text = file.read()"
   ]
  },
  {
   "cell_type": "code",
   "execution_count": 3,
   "id": "06be54d6",
   "metadata": {},
   "outputs": [],
   "source": [
    "text = text.replace('*', '')"
   ]
  },
  {
   "cell_type": "code",
   "execution_count": 4,
   "id": "a5ce8d92",
   "metadata": {},
   "outputs": [],
   "source": [
    "# Tokenizado o texto\n",
    "\n",
    "tokenizer = keras.layers.TextVectorization(\n",
    "    standardize=\"lower\",\n",
    "    split=\"character\",\n",
    "    output_mode=\"int\",\n",
    ")\n",
    "\n",
    "tokenizer.adapt([text])"
   ]
  },
  {
   "cell_type": "code",
   "execution_count": 5,
   "id": "3b23cdf9",
   "metadata": {},
   "outputs": [
    {
     "data": {
      "text/plain": [
       "57"
      ]
     },
     "execution_count": 5,
     "metadata": {},
     "output_type": "execute_result"
    }
   ],
   "source": [
    "len(tokenizer.get_vocabulary()) - 2"
   ]
  },
  {
   "cell_type": "code",
   "execution_count": 6,
   "id": "b799eec6",
   "metadata": {},
   "outputs": [],
   "source": [
    "token = tokenizer([text])[0]\n",
    "token = token - 2"
   ]
  },
  {
   "cell_type": "code",
   "execution_count": 7,
   "id": "e30848a8",
   "metadata": {},
   "outputs": [],
   "source": [
    "dataset = tf.data.Dataset.from_tensor_slices(token)"
   ]
  },
  {
   "cell_type": "code",
   "execution_count": 8,
   "id": "590ff991",
   "metadata": {},
   "outputs": [],
   "source": [
    "janela = 50"
   ]
  },
  {
   "cell_type": "code",
   "execution_count": 9,
   "id": "2d65fce8",
   "metadata": {},
   "outputs": [],
   "source": [
    "dataset = dataset.window(janela, shift=1, drop_remainder=True)\n",
    "dataset = dataset.flat_map(lambda window: window.batch(janela))"
   ]
  },
  {
   "cell_type": "code",
   "execution_count": 10,
   "id": "5c5c2eab",
   "metadata": {},
   "outputs": [],
   "source": [
    "dataset = dataset.shuffle(1000).batch(20)\n",
    "dataset = dataset.map(lambda window:(window[:, :-1], window[:, 1:]))"
   ]
  },
  {
   "cell_type": "code",
   "execution_count": 11,
   "id": "02bf8d2d",
   "metadata": {},
   "outputs": [],
   "source": [
    "dataset = dataset.prefetch(1)"
   ]
  },
  {
   "cell_type": "markdown",
   "id": "26f8b7c8",
   "metadata": {},
   "source": [
    "Criando modelo"
   ]
  },
  {
   "cell_type": "code",
   "execution_count": 12,
   "id": "fedd5fa4",
   "metadata": {},
   "outputs": [
    {
     "data": {
      "text/plain": [
       "57"
      ]
     },
     "execution_count": 12,
     "metadata": {},
     "output_type": "execute_result"
    }
   ],
   "source": [
    "tam = len(tokenizer.get_vocabulary()) - 2\n",
    "tam"
   ]
  },
  {
   "cell_type": "code",
   "execution_count": null,
   "id": "a1017ba6",
   "metadata": {},
   "outputs": [
    {
     "name": "stdout",
     "output_type": "stream",
     "text": [
      "Epoch 1/20\n",
      "\u001b[1m195/195\u001b[0m \u001b[32m━━━━━━━━━━━━━━━━━━━━\u001b[0m\u001b[37m\u001b[0m \u001b[1m67s\u001b[0m 271ms/step - accuracy: 0.3207 - loss: 2.4155\n",
      "Epoch 2/20\n"
     ]
    },
    {
     "name": "stderr",
     "output_type": "stream",
     "text": [
      "c:\\Users\\mateu\\Documents\\Norton\\Projetos GIT\\trust-advisor-streamlit-finance\\venv\\Lib\\site-packages\\keras\\src\\trainers\\epoch_iterator.py:164: UserWarning: Your input ran out of data; interrupting training. Make sure that your dataset or generator can generate at least `steps_per_epoch * epochs` batches. You may need to use the `.repeat()` function when building your dataset.\n",
      "  self._interrupted_warning()\n",
      "c:\\Users\\mateu\\Documents\\Norton\\Projetos GIT\\trust-advisor-streamlit-finance\\venv\\Lib\\site-packages\\keras\\src\\callbacks\\early_stopping.py:99: UserWarning: Early stopping conditioned on metric `val_loss` which is not available. Available metrics are: accuracy,loss\n",
      "  current = self.get_monitor_value(logs)\n"
     ]
    },
    {
     "name": "stdout",
     "output_type": "stream",
     "text": [
      "\u001b[1m195/195\u001b[0m \u001b[32m━━━━━━━━━━━━━━━━━━━━\u001b[0m\u001b[37m\u001b[0m \u001b[1m49s\u001b[0m 251ms/step - accuracy: 0.6480 - loss: 1.2122\n",
      "Epoch 3/20\n",
      "\u001b[1m195/195\u001b[0m \u001b[32m━━━━━━━━━━━━━━━━━━━━\u001b[0m\u001b[37m\u001b[0m \u001b[1m52s\u001b[0m 265ms/step - accuracy: 0.8407 - loss: 0.5754\n",
      "Epoch 4/20\n",
      "\u001b[1m195/195\u001b[0m \u001b[32m━━━━━━━━━━━━━━━━━━━━\u001b[0m\u001b[37m\u001b[0m \u001b[1m54s\u001b[0m 274ms/step - accuracy: 0.9096 - loss: 0.3384\n",
      "Epoch 5/20\n",
      "\u001b[1m195/195\u001b[0m \u001b[32m━━━━━━━━━━━━━━━━━━━━\u001b[0m\u001b[37m\u001b[0m \u001b[1m52s\u001b[0m 265ms/step - accuracy: 0.9286 - loss: 0.2589\n",
      "Epoch 6/20\n",
      "\u001b[1m195/195\u001b[0m \u001b[32m━━━━━━━━━━━━━━━━━━━━\u001b[0m\u001b[37m\u001b[0m \u001b[1m54s\u001b[0m 275ms/step - accuracy: 0.9355 - loss: 0.2236\n",
      "Epoch 7/20\n",
      "\u001b[1m195/195\u001b[0m \u001b[32m━━━━━━━━━━━━━━━━━━━━\u001b[0m\u001b[37m\u001b[0m \u001b[1m54s\u001b[0m 275ms/step - accuracy: 0.9399 - loss: 0.2031\n",
      "Epoch 8/20\n",
      "\u001b[1m195/195\u001b[0m \u001b[32m━━━━━━━━━━━━━━━━━━━━\u001b[0m\u001b[37m\u001b[0m \u001b[1m51s\u001b[0m 259ms/step - accuracy: 0.9428 - loss: 0.1900\n",
      "Epoch 9/20\n",
      "\u001b[1m195/195\u001b[0m \u001b[32m━━━━━━━━━━━━━━━━━━━━\u001b[0m\u001b[37m\u001b[0m \u001b[1m47s\u001b[0m 240ms/step - accuracy: 0.9449 - loss: 0.1804\n",
      "Epoch 10/20\n",
      "\u001b[1m195/195\u001b[0m \u001b[32m━━━━━━━━━━━━━━━━━━━━\u001b[0m\u001b[37m\u001b[0m \u001b[1m47s\u001b[0m 238ms/step - accuracy: 0.9464 - loss: 0.1738\n",
      "Epoch 11/20\n",
      "\u001b[1m195/195\u001b[0m \u001b[32m━━━━━━━━━━━━━━━━━━━━\u001b[0m\u001b[37m\u001b[0m \u001b[1m47s\u001b[0m 241ms/step - accuracy: 0.9475 - loss: 0.1679\n",
      "Epoch 12/20\n",
      "\u001b[1m195/195\u001b[0m \u001b[32m━━━━━━━━━━━━━━━━━━━━\u001b[0m\u001b[37m\u001b[0m \u001b[1m45s\u001b[0m 231ms/step - accuracy: 0.9488 - loss: 0.1629\n",
      "Epoch 13/20\n",
      "\u001b[1m195/195\u001b[0m \u001b[32m━━━━━━━━━━━━━━━━━━━━\u001b[0m\u001b[37m\u001b[0m \u001b[1m48s\u001b[0m 244ms/step - accuracy: 0.9489 - loss: 0.1605\n",
      "Epoch 14/20\n",
      "\u001b[1m195/195\u001b[0m \u001b[32m━━━━━━━━━━━━━━━━━━━━\u001b[0m\u001b[37m\u001b[0m \u001b[1m46s\u001b[0m 233ms/step - accuracy: 0.9493 - loss: 0.1580\n",
      "Epoch 15/20\n",
      "\u001b[1m195/195\u001b[0m \u001b[32m━━━━━━━━━━━━━━━━━━━━\u001b[0m\u001b[37m\u001b[0m \u001b[1m46s\u001b[0m 234ms/step - accuracy: 0.9496 - loss: 0.1566\n",
      "Epoch 16/20\n",
      "\u001b[1m195/195\u001b[0m \u001b[32m━━━━━━━━━━━━━━━━━━━━\u001b[0m\u001b[37m\u001b[0m \u001b[1m45s\u001b[0m 229ms/step - accuracy: 0.9506 - loss: 0.1533\n",
      "Epoch 17/20\n",
      "\u001b[1m195/195\u001b[0m \u001b[32m━━━━━━━━━━━━━━━━━━━━\u001b[0m\u001b[37m\u001b[0m \u001b[1m88s\u001b[0m 453ms/step - accuracy: 0.9502 - loss: 0.1523\n",
      "Epoch 18/20\n",
      "\u001b[1m195/195\u001b[0m \u001b[32m━━━━━━━━━━━━━━━━━━━━\u001b[0m\u001b[37m\u001b[0m \u001b[1m107s\u001b[0m 549ms/step - accuracy: 0.9509 - loss: 0.1505\n",
      "Epoch 19/20\n",
      "\u001b[1m195/195\u001b[0m \u001b[32m━━━━━━━━━━━━━━━━━━━━\u001b[0m\u001b[37m\u001b[0m \u001b[1m97s\u001b[0m 496ms/step - accuracy: 0.9508 - loss: 0.1499\n",
      "Epoch 20/20\n",
      "\u001b[1m195/195\u001b[0m \u001b[32m━━━━━━━━━━━━━━━━━━━━\u001b[0m\u001b[37m\u001b[0m \u001b[1m104s\u001b[0m 531ms/step - accuracy: 0.9514 - loss: 0.1473\n"
     ]
    }
   ],
   "source": [
    "model = keras.models.Sequential([\n",
    "    keras.layers.Embedding(\n",
    "        input_dim=tam,\n",
    "        output_dim=80,\n",
    "    ),\n",
    "    keras.layers.GRU(200, return_sequences=True),\n",
    "    keras.layers.GRU(200, return_sequences=True, dropout=0.2, recurrent_dropout=0.1),\n",
    "    keras.layers.TimeDistributed(\n",
    "        keras.layers.Dense(\n",
    "            tam,\n",
    "            activation=keras.activations.softmax,\n",
    "            kernel_initializer=keras.initializers.glorot_uniform\n",
    "        )\n",
    "    )\n",
    "])\n",
    "model.compile(\n",
    "    loss=keras.losses.SparseCategoricalCrossentropy(),\n",
    "    optimizer=keras.optimizers.Adam(),\n",
    "    metrics=[\"accuracy\"]\n",
    ")\n",
    "model.fit(\n",
    "    dataset,\n",
    "    epochs=20,\n",
    "    callbacks=[\n",
    "        keras.callbacks.EarlyStopping(\n",
    "            patience=4,\n",
    "            restore_best_weights=True\n",
    "        ),\n",
    "    ],\n",
    "    )\n",
    "model.save(filepath='model_llm.keras' )"
   ]
  },
  {
   "cell_type": "code",
   "execution_count": 14,
   "id": "1396b7ec",
   "metadata": {},
   "outputs": [
    {
     "name": "stdout",
     "output_type": "stream",
     "text": [
      "\u001b[1m1/1\u001b[0m \u001b[32m━━━━━━━━━━━━━━━━━━━━\u001b[0m\u001b[37m\u001b[0m \u001b[1m3s\u001b[0m 3s/step\n"
     ]
    },
    {
     "data": {
      "text/plain": [
       "'[UNK]'"
      ]
     },
     "execution_count": 14,
     "metadata": {},
     "output_type": "execute_result"
    }
   ],
   "source": [
    "pred = model.predict(tokenizer(['o que é retorno acumulado?']))[0, -1]\n",
    "y_pred = tf.argmax(pred)  # choose the most probable character ID\n",
    "tokenizer.get_vocabulary()[y_pred + 1]"
   ]
  },
  {
   "cell_type": "code",
   "execution_count": 15,
   "id": "e126cb13",
   "metadata": {},
   "outputs": [],
   "source": [
    "model_final = keras.models.Sequential([\n",
    "    keras.layers.Lambda(lambda X: X - 2),\n",
    "    model\n",
    "])"
   ]
  },
  {
   "cell_type": "code",
   "execution_count": 16,
   "id": "804e6f74",
   "metadata": {},
   "outputs": [],
   "source": [
    "def next_char(text, temperature=1.0):\n",
    "    encoder_text = tokenizer([text])\n",
    "\n",
    "    y_proba = model_final.predict(encoder_text, verbose=0)[0, -1:]\n",
    "    \n",
    "    rescaled_logits = tf.math.log(y_proba) / temperature\n",
    "    y_pred = tf.random.categorical(rescaled_logits, num_samples=1)[0, 0]\n",
    "    return tokenizer.get_vocabulary()[y_pred + 2]"
   ]
  },
  {
   "cell_type": "code",
   "execution_count": 17,
   "id": "68885d19",
   "metadata": {},
   "outputs": [],
   "source": [
    "def generate_text(text, n_chars=1000, temperature=1.0):\n",
    "    for _ in range(n_chars):\n",
    "        str_ = next_char(text, temperature)\n",
    "        if str_ == '.':\n",
    "            break\n",
    "        text += str_\n",
    "    return text"
   ]
  },
  {
   "cell_type": "code",
   "execution_count": 18,
   "id": "540e11a6",
   "metadata": {},
   "outputs": [
    {
     "name": "stdout",
     "output_type": "stream",
     "text": [
      "WARNING:tensorflow:From c:\\Users\\mateu\\Documents\\Norton\\Projetos GIT\\trust-advisor-streamlit-finance\\venv\\Lib\\site-packages\\keras\\src\\backend\\tensorflow\\core.py:232: The name tf.placeholder is deprecated. Please use tf.compat.v1.placeholder instead.\n",
      "\n"
     ]
    },
    {
     "data": {
      "text/plain": [
       "'o que é retorno acumulado\\nrepresenta o crescimento total do capital investido ao longo de um período, considerando a capitali'"
      ]
     },
     "execution_count": 18,
     "metadata": {},
     "output_type": "execute_result"
    }
   ],
   "source": [
    "generate_text(\"o que é retorno acumulado\",n_chars=100, temperature=0.8)"
   ]
  },
  {
   "cell_type": "code",
   "execution_count": null,
   "id": "d712c127",
   "metadata": {},
   "outputs": [],
   "source": []
  }
 ],
 "metadata": {
  "kernelspec": {
   "display_name": "venv",
   "language": "python",
   "name": "python3"
  },
  "language_info": {
   "codemirror_mode": {
    "name": "ipython",
    "version": 3
   },
   "file_extension": ".py",
   "mimetype": "text/x-python",
   "name": "python",
   "nbconvert_exporter": "python",
   "pygments_lexer": "ipython3",
   "version": "3.12.10"
  }
 },
 "nbformat": 4,
 "nbformat_minor": 5
}
